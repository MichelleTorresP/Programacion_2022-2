{
  "nbformat": 4,
  "nbformat_minor": 0,
  "metadata": {
    "colab": {
      "provenance": [],
      "collapsed_sections": []
    },
    "kernelspec": {
      "name": "python3",
      "display_name": "Python 3"
    },
    "language_info": {
      "name": "python"
    }
  },
  "cells": [
    {
      "cell_type": "code",
      "source": [
        "from google.colab import drive\n",
        "drive.mount('/content/drive')"
      ],
      "metadata": {
        "id": "epIl0xGlztE0"
      },
      "execution_count": null,
      "outputs": []
    },
    {
      "cell_type": "code",
      "source": [
        "#Primero se debe cargar el drive propio para que el progama pueda encontrar el archivo compartido. Seguido de ello, lo renombramos como f, facilitando su uso.\n",
        "with open('/content/drive/Shareddrives/Lab 3/LAB3 programacion de computadores /Secuencia_larga.txt') as f: \n",
        "  lines = f.readlines()  ##Leemos cada linea de la cadena de texto, para hallar la clave o secuencia que deseamos.\n",
        "S=open('/content/drive/Shareddrives/Lab 3/LAB3 programacion de computadores /Secuencia.txt','rt' ) #Abrimos del drive la secuencia que buscaremos (la llave).\n",
        "secuence=''  #Creamos una variable para guardar aqui la cadena del primer texto eliminando los saltos de linea.\n",
        "for l in lines[0:]:  #Eliminacion de los saltos de linea del primer texto.\n",
        "  secuence+=l[:-1]\n",
        "def prueba (secuence,S): #Creamos la funcion para encontrar la llave en el texto.\n",
        "  problema= S.read() #Leemos la llave y la nomobramos como \"problema\".\n",
        "  a=secuence.find(problema) #Buscamos dentro de la cadena de texto (ya sin saltos de linea) la llave que extraimos del Drive. (Su poscición inicial).\n",
        "  ubicacion=a+len(problema) #Sumamos la cantidad de caracteres que existan en la llave a la poscición inicial para mostrar la poscición final.\n",
        "  return \"Inicia\",a,\"Fin\",ubicacion #Mostramos el resultado\n",
        "\n",
        "prueba(secuence, S)"
      ],
      "metadata": {
        "id": "SYpJgN6jwBtN",
        "colab": {
          "base_uri": "https://localhost:8080/"
        },
        "outputId": "e6d46060-d13e-410f-abf8-184e51515145"
      },
      "execution_count": null,
      "outputs": [
        {
          "output_type": "execute_result",
          "data": {
            "text/plain": [
              "('Inicia', 29847, 'Fin', 29874)"
            ]
          },
          "metadata": {},
          "execution_count": 25
        }
      ]
    },
    {
      "cell_type": "code",
      "source": [
        "from google.colab import drive\n",
        "drive.mount('/content/drive')"
      ],
      "metadata": {
        "id": "udyk2WaxtKxm",
        "outputId": "e14780c8-5293-44be-c37f-6cda337a6bca",
        "colab": {
          "base_uri": "https://localhost:8080/"
        }
      },
      "execution_count": null,
      "outputs": [
        {
          "output_type": "stream",
          "name": "stdout",
          "text": [
            "Drive already mounted at /content/drive; to attempt to forcibly remount, call drive.mount(\"/content/drive\", force_remount=True).\n"
          ]
        }
      ]
    }
  ]
}