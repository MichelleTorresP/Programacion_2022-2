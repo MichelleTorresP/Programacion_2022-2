{
  "nbformat": 4,
  "nbformat_minor": 0,
  "metadata": {
    "colab": {
      "provenance": [],
      "collapsed_sections": []
    },
    "kernelspec": {
      "name": "python3",
      "display_name": "Python 3"
    },
    "language_info": {
      "name": "python"
    }
  },
  "cells": [
    {
      "cell_type": "markdown",
      "source": [
        "Escribir un programa que pregunte al usuario su nombre, edad, dirección y teléfono, guarde la información en un diccionario.\n",
        " Después debe mostrar por pantalla el mensaje:\n",
        "<nombre> tiene <edad> años, vive en <dirección> y su número de teléfono es <teléfono>."
      ],
      "metadata": {
        "id": "E24Jq_uFpP64"
      }
    },
    {
      "cell_type": "code",
      "execution_count": 3,
      "metadata": {
        "id": "IKUP9KLAkwYp",
        "colab": {
          "base_uri": "https://localhost:8080/"
        },
        "outputId": "c83625cd-bd4d-470a-e8f5-8a9aa362f704"
      },
      "outputs": [
        {
          "output_type": "stream",
          "name": "stdout",
          "text": [
            "¿Como te llamas? Michelle\n",
            "Edad: 17\n",
            "Direccion: Calle 37 # 68 i_32\n",
            "Número de telefono: 3146185544\n",
            "Michelle tiene 17 años, vive en Calle 37 # 68 i_32 y su número de teléfono es 3146185544\n"
          ]
        }
      ],
      "source": [
        "nom=input(\"¿Como te llamas? \")\n",
        "ed=int(input(\"Edad: \"))\n",
        "dirn=input(\"Direccion: \")\n",
        "tel=int(input(\"Número de telefono: \"))\n",
        "def datos(**kwargs):\n",
        "  dic={\"nombre\":nom,\"edad\":ed,\"direccion\":dirn,\"telefono\":tel}\n",
        "  print(nom,\"tiene\",ed,\"años, vive en\",dirn,\"y su número de teléfono es\",tel)\n",
        "\n",
        "datos()"
      ]
    },
    {
      "cell_type": "markdown",
      "source": [
        "2.  Escribir un programa que pregunte una fecha actual y fecha de nacimiento ‘dd/mm/aaaa’ y muestre por pantalla la misma fecha en formato “dia/mes/aaaa” y sus días de vida son <####>\n",
        "no tenga en cuenta años bisiestos, \n",
        "\n",
        "https://www.programiz.com/python-programming/time#:~:text=time(),the%20point%20where%20time%20begins).\n",
        "de usar la librería time, el algoritmo ya no requiere solicitar la fecha actual\n"
      ],
      "metadata": {
        "id": "bG-cKV8uMRkV"
      }
    },
    {
      "cell_type": "code",
      "source": [
        "import time\n",
        "\n",
        "\n",
        "time_string1 = time.strftime(\"%d/%m/%Y\")\n",
        "result1 = time.strptime(time_string1, \"%d/%m/%Y\")\n",
        "\n",
        "time_string = input(\"Escriba su fecha de nacimiento dd/mm/aaaa: \")\n",
        "result = time.strptime(time_string, \"%d/%m/%Y\")\n",
        "\n",
        "print(\"Sus días de vida son: \", ((result1.tm_year-result.tm_year)*365)+((result1.tm_mon-result.tm_mon)*30)+(result1.tm_mday-result.tm_mday))\n",
        "   "
      ],
      "metadata": {
        "id": "CmfrurUkMQaV",
        "colab": {
          "base_uri": "https://localhost:8080/"
        },
        "outputId": "f25d414f-035f-4802-dc66-06c444aec647"
      },
      "execution_count": 2,
      "outputs": [
        {
          "output_type": "stream",
          "name": "stdout",
          "text": [
            "Escriba su fecha de nacimiento dd/mm/aaaa: 28/11/2004\n",
            "Sus días de vida son:  6539\n"
          ]
        }
      ]
    },
    {
      "cell_type": "markdown",
      "source": [
        "Escribir un programa que administre un dictado de dictados, {1:{},2:{},,,,,,,#:{}}.\n",
        "Debe preguntar a cada usuario(cantidad indefinida), tres datos (los que definan), y a partir de estos, crear un dictado por usuario.\n",
        "El dictado de cada usuario, será de esta manera:\n",
        "La clave será un entero respectivo al orden en que el usuario ingresa los datos.\n",
        "El valor será un dictado con los tres datos del usuario elegidos.\n",
        "{‘dato1’:857,‘dato2’:True,‘dato3’:’dffd’}\n",
        "Ejemplo dictado general:\n",
        "{0:{‘dato1’:857,‘dato2’:True,‘dato3’:’dffd’},1:{‘dato1’:857,‘dato2’:True,‘dato3’:’dffd’}}\n",
        "Al final el programa imprimirá el primer(mínimo) usuario y el último(máximo) usuario con sus respectivos datos.\n"
      ],
      "metadata": {
        "id": "qVN6m82xQ57G"
      }
    },
    {
      "cell_type": "code",
      "source": [
        "dict1={}\n",
        "n=1\n",
        "datos=True\n",
        "while datos == True:\n",
        "  a=input(\"Escriba el nombre de un contintente \")\n",
        "  b=input(\"escriba el nombre de un pais \")\n",
        "  c=input(\"escriba el nombre de una ciudad \")\n",
        "  dicta={\"Dato1\":a, \"Dato2\":b, \"Dato3\": c}\n",
        "  dict1[n]=dicta\n",
        "  n+=1\n",
        "  r=input(\"Desea continuar?  1.Si 2.No\")\n",
        "  if r==\"2\":\n",
        "   break\n",
        "\n",
        "print(dict1)"
      ],
      "metadata": {
        "id": "sC2Sx8odQ6F4",
        "colab": {
          "base_uri": "https://localhost:8080/"
        },
        "outputId": "e118729d-7a83-4364-f92f-7a96f621787f"
      },
      "execution_count": 1,
      "outputs": [
        {
          "output_type": "stream",
          "name": "stdout",
          "text": [
            "Escriba el nombre de un contintente America\n",
            "escriba el nombre de un pais Colombia\n",
            "escriba el nombre de una ciudad Bogota\n",
            "Desea continuar?  1.Si 2.No1\n",
            "Escriba el nombre de un contintente Oceania\n",
            "escriba el nombre de un pais Australia\n",
            "escriba el nombre de una ciudad Sidney\n",
            "Desea continuar?  1.Si 2.No2\n",
            "{1: {'Dato1': 'America', 'Dato2': 'Colombia', 'Dato3': 'Bogota'}, 2: {'Dato1': 'Oceania', 'Dato2': 'Australia', 'Dato3': 'Sidney'}}\n"
          ]
        }
      ]
    }
  ]
}