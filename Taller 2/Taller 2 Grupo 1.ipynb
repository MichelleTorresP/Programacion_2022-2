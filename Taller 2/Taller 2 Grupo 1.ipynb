{
  "nbformat": 4,
  "nbformat_minor": 0,
  "metadata": {
    "colab": {
      "provenance": [],
      "collapsed_sections": []
    },
    "kernelspec": {
      "name": "python3",
      "display_name": "Python 3"
    },
    "language_info": {
      "name": "python"
    }
  },
  "cells": [
    {
      "cell_type": "markdown",
      "source": [
        "1. Escriba un algoritmo que dado un número entero, indique si este valor es par o impar.(recordar Todos los operadores aritméticos [+, -, *, /, %MOD])\n",
        "\n"
      ],
      "metadata": {
        "id": "OGpUAjzBvjsx"
      }
    },
    {
      "cell_type": "code",
      "source": [
        "n=int(input(\"Escriba un número entero \"))#Le pedimos al usuario un número y lo convertimos en número entero\n",
        "if n%2==0: #Si el residuo del número dividido en 2 es igual a 0, entonces es par \n",
        "  print(str(n)+\", su número es par\") #Le pedimos al programa que le el resultado al usuario\n",
        "elif n%2==1: #Si el residuo del número dividido en 2 es igual a 1, entonces es impar \n",
        "  print(str(n)+\", su número es impar\") #Le pedimos al programa que le el resultado al usuario"
      ],
      "metadata": {
        "id": "Lxl678SAvnfy",
        "colab": {
          "base_uri": "https://localhost:8080/"
        },
        "outputId": "954adb85-7bf6-4e09-af28-e98fc6f6a2ad"
      },
      "execution_count": 5,
      "outputs": [
        {
          "output_type": "stream",
          "name": "stdout",
          "text": [
            "Escriba un número entero 45\n",
            "45, su número es impar\n"
          ]
        }
      ]
    },
    {
      "cell_type": "markdown",
      "source": [
        "**2**. Escriba un algoritmo que pida un número y también un porcentaje entre 0 y 100 que puede ser decimal,  el algoritmo debe entregar el cálculo del porcentaje del primer número, Si el usuario ingresa un dato fuera del rango  (0 a 100), debe mostrar un error y volver a pedir el porcentaje."
      ],
      "metadata": {
        "id": "XxSxqQ7uoUmf"
      }
    },
    {
      "cell_type": "code",
      "source": [
        "n=float(input(\"Escriba un número: \")) #Pedimos al usuario que escriba el número al que desea encontrarle cierto porcentaje\n",
        "porc=float(input(\"Escriba el porcentaje que desea hallar: \")) #Que porcentaje desea hallar\n",
        "p=True #Asignarle True a la variable p\n",
        "while p==True: #Mientras la variable p sea igual a True, realizará los siguiente:\n",
        "  if porc>100: #Si el porcentaje que escribió el usuario es mayor a 100, enviará un error y volverá a preguntar el porcentaje \n",
        "    porc=float(input(\"Error, porcentaje incorrecto: \"))\n",
        "  elif porc<0: #Si el porcentaje que escribió el usuario es menor a 0, enviará un error y volverá a preguntar el porcentaje \n",
        "    print(\"Error, porcentaje incorrecto\")\n",
        "    porc=float(input(\"Error, porcentaje incorrecto: \"))\n",
        "  else: #Si el porcentaje del usuario es un número entre 0 y 100, se cambiará la salida de p a False para saltarse el ciclo WHILE\n",
        "    p=False \n",
        "resultado=(porc*n)/100 #Realizará la operación matemática y \n",
        "print(\"El\",porc,\"% de\",n,\"es:\",resultado,) #Entregará el resultado..."
      ],
      "metadata": {
        "id": "MUCoa7Zg1ELM",
        "colab": {
          "base_uri": "https://localhost:8080/"
        },
        "outputId": "b788e595-7e14-4ac1-8412-f0c8608cb8ec"
      },
      "execution_count": null,
      "outputs": [
        {
          "output_type": "stream",
          "name": "stdout",
          "text": [
            "Escriba un número: 67\n",
            "Escriba el porcentaje que desea hallar: 578\n",
            "Error, porcentaje incorrecto: 45\n",
            "El 45.0 % de 67.0 es: 30.15\n"
          ]
        }
      ]
    },
    {
      "cell_type": "markdown",
      "source": [
        "3. Con base en el primer Ejercicio, si el número indicado es par, entregar todos los números pares entre el 0 y el número."
      ],
      "metadata": {
        "id": "CTXVuVbi9L1o"
      }
    },
    {
      "cell_type": "code",
      "source": [
        "n=int(input(\"Escriba un numero entero: \"))#Le pedimos al usuario un número y lo convertimos en número entero\n",
        "lista=[] #Creamos una lista \n",
        "if n%2==0: #Si el residuo del número dividido en 2 es igual a 0, entonces es par \n",
        "  print(str(n)+\", su número es par\")\n",
        "  for e in range(n-2, 0, -2): #Restamos el número par digitado por el usuario hasta llegar a 0\n",
        "    lista.append(e) #Añadimos elementos a la lista mediante append\n",
        "  print(\"Y los números pares anteriores son:\",lista,)\n",
        "elif n%2==1: #Si el residuo del número dividido en 2 es igual a 1, entonces es impar\n",
        "  print(str(n)+\", su número es impar\")"
      ],
      "metadata": {
        "id": "hsfPzO0j_4c7",
        "colab": {
          "base_uri": "https://localhost:8080/"
        },
        "outputId": "fef3c938-75b2-4e85-f82d-7985a4108853"
      },
      "execution_count": null,
      "outputs": [
        {
          "output_type": "stream",
          "name": "stdout",
          "text": [
            "Escriba un numero entero: 32\n",
            "32, su número es par\n",
            "Y los números pares anteriores son: [30, 28, 26, 24, 22, 20, 18, 16, 14, 12, 10, 8, 6, 4, 2]\n"
          ]
        }
      ]
    },
    {
      "cell_type": "markdown",
      "source": [
        "4. Escriba un algoritmo que dado un número entero, entregue la suma de todos los números entre el 0 y el número dado."
      ],
      "metadata": {
        "id": "wjY70kcK865g"
      }
    },
    {
      "cell_type": "code",
      "source": [
        "print(\"Ingrese un número entero: \") #Pedirle al usuario que escriba un número entero\n",
        "f=int(input()) #Asignarle la variable f al número ingresado y pedirle al programa que lo tome como entero\n",
        "sumatoria=0 #Asignar la variable sumatoria\n",
        "for j in range(0, f+1): #Para cada número j que esta dentro del rango entre 0 a f (+1 para incluir a f)\n",
        "  sumatoria=sumatoria+j #Sumar los valores que toma j entre sí\n",
        "print(\"La sumatoria de los números entre 0 y el número dado es:\") #Mostrar el usuario el enunciado\n",
        "for i in range(0, f): #Usar lo mismo del anterior for sin +1\n",
        "  print(f\"{i} + \",end=\"\") #Para cada i de f, situar al lado un + hasta que se complete el rango (Depende del número que introduce la persona) \n",
        "print(f\" {f} = {sumatoria}\") #Imprimir f y la sumatoria para que se vea el proceso"
      ],
      "metadata": {
        "colab": {
          "base_uri": "https://localhost:8080/"
        },
        "id": "veIEt6WgRdBi",
        "outputId": "c8d1ab13-d61e-4378-9fd1-e92acd8415a7"
      },
      "execution_count": 2,
      "outputs": [
        {
          "output_type": "stream",
          "name": "stdout",
          "text": [
            "Ingrese un número entero: \n",
            "4\n",
            "La sumatoria de los números entre 0 y el número dado es:\n",
            "0 + 1 + 2 + 3 +  4 = 10\n"
          ]
        }
      ]
    }
  ]
}